{
  "nbformat": 4,
  "nbformat_minor": 0,
  "metadata": {
    "colab": {
      "name": "BluePrint_of polynomial_regression.ipynb",
      "provenance": [],
      "collapsed_sections": [],
      "include_colab_link": true
    },
    "kernelspec": {
      "name": "python3",
      "display_name": "Python 3"
    }
  },
  "cells": [
    {
      "cell_type": "markdown",
      "metadata": {
        "id": "view-in-github",
        "colab_type": "text"
      },
      "source": [
        "<a href=\"https://colab.research.google.com/github/JenyaGL/ML/blob/main/BluePrint_of_polynomial_regression.ipynb\" target=\"_parent\"><img src=\"https://colab.research.google.com/assets/colab-badge.svg\" alt=\"Open In Colab\"/></a>"
      ]
    },
    {
      "cell_type": "markdown",
      "metadata": {
        "id": "vN99YjPTDena"
      },
      "source": [
        "# Polynomial Regression"
      ]
    },
    {
      "cell_type": "markdown",
      "metadata": {
        "id": "ZIx_naXnDyHd"
      },
      "source": [
        "## Importing the libraries"
      ]
    },
    {
      "cell_type": "code",
      "metadata": {
        "id": "wRTDyYfrmLPD"
      },
      "source": [
        "import numpy as np\n",
        "import matplotlib.pyplot as plt\n",
        "import pandas as pd"
      ],
      "execution_count": 1,
      "outputs": []
    },
    {
      "cell_type": "markdown",
      "metadata": {
        "id": "6c8YExmOD5x5"
      },
      "source": [
        "## Importing the dataset"
      ]
    },
    {
      "cell_type": "markdown",
      "metadata": {
        "id": "PoknIm5QqFcm"
      },
      "source": [
        ""
      ]
    },
    {
      "cell_type": "code",
      "metadata": {
        "id": "fhzlpby5mMZr"
      },
      "source": [
        "dataset = pd.read_csv('Position_Salaries.csv')\n",
        "x = dataset.iloc[:, 1:-1].values\n",
        "y = dataset.iloc[:, -1].values\n",
        "# note that the first column 'position' is not included in X"
      ],
      "execution_count": 7,
      "outputs": []
    },
    {
      "cell_type": "markdown",
      "metadata": {
        "id": "Le8SEL-YEOLb"
      },
      "source": [
        "## Training the Linear Regression model on the whole dataset"
      ]
    },
    {
      "cell_type": "code",
      "metadata": {
        "colab": {
          "base_uri": "https://localhost:8080/"
        },
        "id": "QWyshdK5mNFK",
        "outputId": "6107739e-7486-4c7b-b59d-9fc26959faef"
      },
      "source": [
        "from sklearn.linear_model import LinearRegression\n",
        "lin_reg = LinearRegression()\n",
        "lin_reg.fit(x, y)"
      ],
      "execution_count": 8,
      "outputs": [
        {
          "output_type": "execute_result",
          "data": {
            "text/plain": [
              "LinearRegression(copy_X=True, fit_intercept=True, n_jobs=None, normalize=False)"
            ]
          },
          "metadata": {},
          "execution_count": 8
        }
      ]
    },
    {
      "cell_type": "markdown",
      "metadata": {
        "id": "Rb5nWuSHEfBV"
      },
      "source": [
        "## Training the Polynomial Regression model on the whole dataset"
      ]
    },
    {
      "cell_type": "code",
      "metadata": {
        "colab": {
          "base_uri": "https://localhost:8080/"
        },
        "id": "l0d4CXQ6mNmK",
        "outputId": "5bfd2f14-dbe1-4da5-ec28-b3cfca586427"
      },
      "source": [
        "from sklearn.preprocessing import PolynomialFeatures\n",
        "poly_reg = PolynomialFeatures(degree = 4)\n",
        "x_poly = poly_reg.fit_transform(x)\n",
        "lin_reg_2 = LinearRegression()\n",
        "lin_reg_2.fit(x_poly, y)"
      ],
      "execution_count": 14,
      "outputs": [
        {
          "output_type": "execute_result",
          "data": {
            "text/plain": [
              "LinearRegression(copy_X=True, fit_intercept=True, n_jobs=None, normalize=False)"
            ]
          },
          "metadata": {},
          "execution_count": 14
        }
      ]
    },
    {
      "cell_type": "markdown",
      "metadata": {
        "id": "0O8R0tzbEpvy"
      },
      "source": [
        "## Visualising the Linear Regression results"
      ]
    },
    {
      "cell_type": "code",
      "metadata": {
        "colab": {
          "base_uri": "https://localhost:8080/",
          "height": 294
        },
        "id": "V3imLzUamOH4",
        "outputId": "03bac1e4-cb0a-43b3-c786-dd76f075fd4c"
      },
      "source": [
        "plt.scatter(x, y, color='red')\n",
        "plt.plot(X, lin_reg.predict(X), color='blue')\n",
        "plt.title('Truth or bluff(linear regression)')\n",
        "plt.xlabel('Position levelm ')\n",
        "plt.ylabel('Salary')\n",
        "plt.show()"
      ],
      "execution_count": 15,
      "outputs": [
        {
          "output_type": "display_data",
          "data": {
            "image/png": "[encoded data removed]",
            "text/plain": [
              "<Figure size 432x288 with 1 Axes>"
            ]
          },
          "metadata": {
            "needs_background": "light"
          }
        }
      ]
    },
    {
      "cell_type": "markdown",
      "metadata": {
        "id": "stOnSo74E52m"
      },
      "source": [
        "## Visualising the Polynomial Regression results"
      ]
    },
    {
      "cell_type": "code",
      "metadata": {
        "colab": {
          "base_uri": "https://localhost:8080/",
          "height": 294
        },
        "id": "9Z9nEaKVmOlL",
        "outputId": "73f36f5b-c4b1-4837-f479-b602c623b85d"
      },
      "source": [
        "plt.scatter(x, y, color='red')\n",
        "plt.plot(X, lin_reg_2.predict( poly_reg.fit_transform(x)), color='blue')\n",
        "plt.title('Truth or bluff(polynomial regression)')\n",
        "plt.xlabel('Position level')\n",
        "plt.ylabel('Salary')\n",
        "plt.show()"
      ],
      "execution_count": 16,
      "outputs": [
        {
          "output_type": "display_data",
          "data": {
            "image/png": "[encoded data removed]",
            "text/plain": [
              "<Figure size 432x288 with 1 Axes>"
            ]
          },
          "metadata": {
            "needs_background": "light"
          }
        }
      ]
    },
    {
      "cell_type": "markdown",
      "metadata": {
        "id": "U_qsAMKnE-PJ"
      },
      "source": [
        "## Visualising the Polynomial Regression results (for higher resolution and smoother curve)"
      ]
    },
    {
      "cell_type": "code",
      "metadata": {
        "colab": {
          "base_uri": "https://localhost:8080/",
          "height": 294
        },
        "id": "4YzmJYLemPI_",
        "outputId": "b466adda-b4d5-49c3-e02c-037895e0d56f"
      },
      "source": [
        "X_grid = np.arange(min(X), max(X), 0.1)\n",
        "X_grid = X_grid.reshape((len(X_grid), 1))\n",
        "plt.scatter(X, y, color = 'red')\n",
        "plt.plot(X_grid, lin_reg_2.predict(poly_reg.fit_transform(X_grid)), color = 'blue')\n",
        "plt.title('Truth or Bluff (Polynomial Regression)')\n",
        "plt.xlabel('Position level')\n",
        "plt.ylabel('Salary')\n",
        "plt.show()"
      ],
      "execution_count": 17,
      "outputs": [
        {
          "output_type": "display_data",
          "data": {
            "image/png": "[encoded data removed]",
            "text/plain": [
              "<Figure size 432x288 with 1 Axes>"
            ]
          },
          "metadata": {
            "needs_background": "light"
          }
        }
      ]
    },
    {
      "cell_type": "markdown",
      "metadata": {
        "id": "diyJFZHhFFeK"
      },
      "source": [
        "## Predicting a new result with Linear Regression"
      ]
    },
    {
      "cell_type": "code",
      "metadata": {
        "colab": {
          "base_uri": "https://localhost:8080/"
        },
        "id": "ryJhqnWOmQPj",
        "outputId": "24252e48-46e5-4103-8bb0-4ea3abc55c48"
      },
      "source": [
        "lin_reg.predict([[6.5]])"
      ],
      "execution_count": 20,
      "outputs": [
        {
          "output_type": "execute_result",
          "data": {
            "text/plain": [
              "array([330378.78787879])"
            ]
          },
          "metadata": {},
          "execution_count": 20
        }
      ]
    },
    {
      "cell_type": "code",
      "metadata": {
        "colab": {
          "base_uri": "https://localhost:8080/"
        },
        "id": "C90Lh3xdDVhE",
        "outputId": "30b242eb-659a-4eb9-f88c-cd13ae86e49e"
      },
      "source": [
        "lin_reg.predict([[8.3]])"
      ],
      "execution_count": 21,
      "outputs": [
        {
          "output_type": "execute_result",
          "data": {
            "text/plain": [
              "array([475960.60606061])"
            ]
          },
          "metadata": {},
          "execution_count": 21
        }
      ]
    },
    {
      "cell_type": "markdown",
      "metadata": {
        "id": "DW7I7ZVDFNkk"
      },
      "source": [
        "## Predicting a new result with Polynomial Regression"
      ]
    },
    {
      "cell_type": "code",
      "metadata": {
        "colab": {
          "base_uri": "https://localhost:8080/"
        },
        "id": "HYgMIiChmQsJ",
        "outputId": "f18fa8f6-1cfa-48c3-a835-07dd05866a36"
      },
      "source": [
        "lin_reg_2.predict(poly_reg.fit_transform([[6.5]])) "
      ],
      "execution_count": 22,
      "outputs": [
        {
          "output_type": "execute_result",
          "data": {
            "text/plain": [
              "array([158862.45265155])"
            ]
          },
          "metadata": {},
          "execution_count": 22
        }
      ]
    }
  ]
}