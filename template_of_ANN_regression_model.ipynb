{
  "nbformat": 4,
  "nbformat_minor": 0,
  "metadata": {
    "colab": {
      "name": "template_of_ANN_regression_model",
      "provenance": [],
      "collapsed_sections": [],
      "include_colab_link": true
    },
    "kernelspec": {
      "name": "python3",
      "display_name": "Python 3"
    }
  },
  "cells": [
    {
      "cell_type": "markdown",
      "metadata": {
        "id": "view-in-github",
        "colab_type": "text"
      },
      "source": [
        "<a href=\"https://colab.research.google.com/github/JenyaGL/ML/blob/main/template_of_ANN_regression_model.ipynb\" target=\"_parent\"><img src=\"https://colab.research.google.com/assets/colab-badge.svg\" alt=\"Open In Colab\"/></a>"
      ]
    },
    {
      "cell_type": "markdown",
      "metadata": {
        "id": "3cbb7fRy-eyr"
      },
      "source": [
        "# Artificial Neural Network"
      ]
    },
    {
      "cell_type": "markdown",
      "metadata": {
        "id": "8sNDnxE2-pwE"
      },
      "source": [
        "### Importing the libraries"
      ]
    },
    {
      "cell_type": "code",
      "metadata": {
        "id": "lxChR1Rk-umf"
      },
      "source": [
        "import numpy as np\n",
        "import pandas as pd\n",
        "import tensorflow as tf"
      ],
      "execution_count": 12,
      "outputs": []
    },
    {
      "cell_type": "code",
      "metadata": {
        "id": "uBTqR3nacj0e",
        "colab": {
          "base_uri": "https://localhost:8080/",
          "height": 34
        },
        "outputId": "531d0cba-fd29-400a-c1a2-2af1a2d7dbc4"
      },
      "source": [
        "tf.__version__"
      ],
      "execution_count": 13,
      "outputs": [
        {
          "output_type": "execute_result",
          "data": {
            "application/vnd.google.colaboratory.intrinsic+json": {
              "type": "string"
            },
            "text/plain": [
              "'2.6.0'"
            ]
          },
          "metadata": {},
          "execution_count": 13
        }
      ]
    },
    {
      "cell_type": "markdown",
      "metadata": {
        "id": "AG3FQEch-yuA"
      },
      "source": [
        "## Part 1 - Data Preprocessing"
      ]
    },
    {
      "cell_type": "markdown",
      "metadata": {
        "id": "-4zq8Mza_D9O"
      },
      "source": [
        "### Importing the dataset"
      ]
    },
    {
      "cell_type": "code",
      "metadata": {
        "id": "B9CV13Co_HHM"
      },
      "source": [
        "dataset = pd.read_excel('Folds5x2_pp.xlsx')\n",
        "X = dataset.iloc[:, :-1].values\n",
        "y = dataset.iloc[:, -1].values"
      ],
      "execution_count": 14,
      "outputs": []
    },
    {
      "cell_type": "markdown",
      "metadata": {
        "id": "VC6omXel_Up0"
      },
      "source": [
        "### Splitting the dataset into the Training set and Test set"
      ]
    },
    {
      "cell_type": "code",
      "metadata": {
        "id": "L5edeb2r_agx"
      },
      "source": [
        "from sklearn.model_selection import train_test_split\n",
        "X_train, X_test, y_train, y_test = train_test_split(X, y, test_size = 0.2, random_state = 0)"
      ],
      "execution_count": 15,
      "outputs": []
    },
    {
      "cell_type": "markdown",
      "metadata": {
        "id": "_mSLlAT9_eyI"
      },
      "source": [
        "## Part 2 - Building the ANN"
      ]
    },
    {
      "cell_type": "markdown",
      "metadata": {
        "id": "CsBULd_f_wLY"
      },
      "source": [
        "### Initializing the ANN"
      ]
    },
    {
      "cell_type": "code",
      "metadata": {
        "id": "J6Hd97Ls__Nz"
      },
      "source": [
        "ann = tf.keras.models.Sequential()"
      ],
      "execution_count": 16,
      "outputs": []
    },
    {
      "cell_type": "markdown",
      "metadata": {
        "id": "iitAFJS_ABUn"
      },
      "source": [
        "### Adding the input layer and the first hidden layer"
      ]
    },
    {
      "cell_type": "code",
      "metadata": {
        "id": "ksO_Vv40AHix"
      },
      "source": [
        "ann.add(tf.keras.layers.Dense(units=6, activation='relu'))"
      ],
      "execution_count": 17,
      "outputs": []
    },
    {
      "cell_type": "markdown",
      "metadata": {
        "id": "-lb4kK_wAKbs"
      },
      "source": [
        "### Adding the second hidden layer"
      ]
    },
    {
      "cell_type": "code",
      "metadata": {
        "id": "c2357OqEAQOQ"
      },
      "source": [
        "ann.add(tf.keras.layers.Dense(units=6, activation='relu'))"
      ],
      "execution_count": 18,
      "outputs": []
    },
    {
      "cell_type": "markdown",
      "metadata": {
        "id": "jwMOmKb3AdBY"
      },
      "source": [
        "### Adding the output layer"
      ]
    },
    {
      "cell_type": "code",
      "metadata": {
        "id": "YFATpzsUAkLL"
      },
      "source": [
        "ann.add(tf.keras.layers.Dense(units=1))"
      ],
      "execution_count": 19,
      "outputs": []
    },
    {
      "cell_type": "markdown",
      "metadata": {
        "id": "fq7e4fF6A1yy"
      },
      "source": [
        "## Part 3 - Training the ANN"
      ]
    },
    {
      "cell_type": "markdown",
      "metadata": {
        "id": "qDeylAs2An25"
      },
      "source": [
        "### Compiling the ANN"
      ]
    },
    {
      "cell_type": "code",
      "metadata": {
        "id": "pesgbWlCAtB4"
      },
      "source": [
        "ann.compile(optimizer = 'adam', loss = 'mean_squared_error')"
      ],
      "execution_count": 20,
      "outputs": []
    },
    {
      "cell_type": "markdown",
      "metadata": {
        "id": "YjVuiybYOo7r"
      },
      "source": [
        "### Training the ANN model on the Training set"
      ]
    },
    {
      "cell_type": "code",
      "metadata": {
        "id": "c_vV-tiiA5zn",
        "colab": {
          "base_uri": "https://localhost:8080/"
        },
        "outputId": "ab227244-b180-4241-88cd-bfc6f610fb1b"
      },
      "source": [
        "ann.fit(X_train, y_train, batch_size = 32, epochs = 100)"
      ],
      "execution_count": 21,
      "outputs": [
        {
          "output_type": "stream",
          "name": "stdout",
          "text": [
            "Epoch 1/100\n",
            "240/240 [==============================] - 1s 1ms/step - loss: 5695.5088\n",
            "Epoch 2/100\n",
            "240/240 [==============================] - 0s 1ms/step - loss: 134.9074\n",
            "Epoch 3/100\n",
            "240/240 [==============================] - 0s 2ms/step - loss: 127.7394\n",
            "Epoch 4/100\n",
            "240/240 [==============================] - 0s 1ms/step - loss: 119.0021\n",
            "Epoch 5/100\n",
            "240/240 [==============================] - 0s 1ms/step - loss: 109.4262\n",
            "Epoch 6/100\n",
            "240/240 [==============================] - 0s 1ms/step - loss: 99.6319\n",
            "Epoch 7/100\n",
            "240/240 [==============================] - 0s 1ms/step - loss: 89.6933\n",
            "Epoch 8/100\n",
            "240/240 [==============================] - 0s 1ms/step - loss: 80.6292\n",
            "Epoch 9/100\n",
            "240/240 [==============================] - 0s 1ms/step - loss: 72.2468\n",
            "Epoch 10/100\n",
            "240/240 [==============================] - 0s 1ms/step - loss: 64.5269\n",
            "Epoch 11/100\n",
            "240/240 [==============================] - 0s 1ms/step - loss: 57.9479\n",
            "Epoch 12/100\n",
            "240/240 [==============================] - 0s 1ms/step - loss: 52.7956\n",
            "Epoch 13/100\n",
            "240/240 [==============================] - 0s 1ms/step - loss: 48.6207\n",
            "Epoch 14/100\n",
            "240/240 [==============================] - 0s 1ms/step - loss: 44.8414\n",
            "Epoch 15/100\n",
            "240/240 [==============================] - 0s 1ms/step - loss: 42.2383\n",
            "Epoch 16/100\n",
            "240/240 [==============================] - 0s 1ms/step - loss: 40.4060\n",
            "Epoch 17/100\n",
            "240/240 [==============================] - 0s 1ms/step - loss: 38.3043\n",
            "Epoch 18/100\n",
            "240/240 [==============================] - 0s 1ms/step - loss: 37.0188\n",
            "Epoch 19/100\n",
            "240/240 [==============================] - 0s 1ms/step - loss: 36.2608\n",
            "Epoch 20/100\n",
            "240/240 [==============================] - 0s 1ms/step - loss: 35.3481\n",
            "Epoch 21/100\n",
            "240/240 [==============================] - 0s 1ms/step - loss: 33.6952\n",
            "Epoch 22/100\n",
            "240/240 [==============================] - 0s 1ms/step - loss: 33.4299\n",
            "Epoch 23/100\n",
            "240/240 [==============================] - 0s 1ms/step - loss: 32.5441\n",
            "Epoch 24/100\n",
            "240/240 [==============================] - 0s 1ms/step - loss: 31.9739\n",
            "Epoch 25/100\n",
            "240/240 [==============================] - 0s 1ms/step - loss: 31.6080\n",
            "Epoch 26/100\n",
            "240/240 [==============================] - 0s 1ms/step - loss: 30.4940\n",
            "Epoch 27/100\n",
            "240/240 [==============================] - 0s 1ms/step - loss: 29.8843\n",
            "Epoch 28/100\n",
            "240/240 [==============================] - 0s 1ms/step - loss: 29.6339\n",
            "Epoch 29/100\n",
            "240/240 [==============================] - 0s 1ms/step - loss: 29.4340\n",
            "Epoch 30/100\n",
            "240/240 [==============================] - 0s 1ms/step - loss: 29.6698\n",
            "Epoch 31/100\n",
            "240/240 [==============================] - 0s 1ms/step - loss: 29.1613\n",
            "Epoch 32/100\n",
            "240/240 [==============================] - 0s 1ms/step - loss: 28.6209\n",
            "Epoch 33/100\n",
            "240/240 [==============================] - 0s 1ms/step - loss: 27.9997\n",
            "Epoch 34/100\n",
            "240/240 [==============================] - 0s 1ms/step - loss: 28.1801\n",
            "Epoch 35/100\n",
            "240/240 [==============================] - 0s 1ms/step - loss: 27.5135\n",
            "Epoch 36/100\n",
            "240/240 [==============================] - 0s 1ms/step - loss: 28.5095\n",
            "Epoch 37/100\n",
            "240/240 [==============================] - 0s 1ms/step - loss: 28.0330\n",
            "Epoch 38/100\n",
            "240/240 [==============================] - 0s 1ms/step - loss: 27.1561\n",
            "Epoch 39/100\n",
            "240/240 [==============================] - 0s 1ms/step - loss: 27.2355\n",
            "Epoch 40/100\n",
            "240/240 [==============================] - 0s 1ms/step - loss: 27.8807\n",
            "Epoch 41/100\n",
            "240/240 [==============================] - 0s 1ms/step - loss: 27.1162\n",
            "Epoch 42/100\n",
            "240/240 [==============================] - 0s 1ms/step - loss: 27.8228\n",
            "Epoch 43/100\n",
            "240/240 [==============================] - 0s 1ms/step - loss: 26.7398\n",
            "Epoch 44/100\n",
            "240/240 [==============================] - 0s 1ms/step - loss: 27.0187\n",
            "Epoch 45/100\n",
            "240/240 [==============================] - 0s 1ms/step - loss: 27.0964\n",
            "Epoch 46/100\n",
            "240/240 [==============================] - 0s 1ms/step - loss: 27.0496\n",
            "Epoch 47/100\n",
            "240/240 [==============================] - 0s 1ms/step - loss: 27.2674\n",
            "Epoch 48/100\n",
            "240/240 [==============================] - 0s 1ms/step - loss: 26.8943\n",
            "Epoch 49/100\n",
            "240/240 [==============================] - 0s 1ms/step - loss: 27.0232\n",
            "Epoch 50/100\n",
            "240/240 [==============================] - 0s 1ms/step - loss: 27.3683\n",
            "Epoch 51/100\n",
            "240/240 [==============================] - 0s 1ms/step - loss: 27.0521\n",
            "Epoch 52/100\n",
            "240/240 [==============================] - 0s 1ms/step - loss: 27.3733\n",
            "Epoch 53/100\n",
            "240/240 [==============================] - 0s 1ms/step - loss: 27.4499\n",
            "Epoch 54/100\n",
            "240/240 [==============================] - 0s 1ms/step - loss: 26.9189\n",
            "Epoch 55/100\n",
            "240/240 [==============================] - 0s 1ms/step - loss: 26.7717\n",
            "Epoch 56/100\n",
            "240/240 [==============================] - 0s 1ms/step - loss: 27.2767\n",
            "Epoch 57/100\n",
            "240/240 [==============================] - 0s 1ms/step - loss: 27.9031\n",
            "Epoch 58/100\n",
            "240/240 [==============================] - 0s 1ms/step - loss: 26.7905\n",
            "Epoch 59/100\n",
            "240/240 [==============================] - 0s 1ms/step - loss: 26.8058\n",
            "Epoch 60/100\n",
            "240/240 [==============================] - 0s 1ms/step - loss: 27.2803\n",
            "Epoch 61/100\n",
            "240/240 [==============================] - 0s 1ms/step - loss: 27.1343\n",
            "Epoch 62/100\n",
            "240/240 [==============================] - 0s 1ms/step - loss: 27.1544\n",
            "Epoch 63/100\n",
            "240/240 [==============================] - 0s 1ms/step - loss: 26.8267\n",
            "Epoch 64/100\n",
            "240/240 [==============================] - 0s 1ms/step - loss: 27.1581\n",
            "Epoch 65/100\n",
            "240/240 [==============================] - 0s 1ms/step - loss: 26.8432\n",
            "Epoch 66/100\n",
            "240/240 [==============================] - 0s 1ms/step - loss: 27.2948\n",
            "Epoch 67/100\n",
            "240/240 [==============================] - 0s 1ms/step - loss: 27.6947\n",
            "Epoch 68/100\n",
            "240/240 [==============================] - 0s 1ms/step - loss: 26.6912\n",
            "Epoch 69/100\n",
            "240/240 [==============================] - 0s 1ms/step - loss: 26.6468\n",
            "Epoch 70/100\n",
            "240/240 [==============================] - 0s 1ms/step - loss: 26.6851\n",
            "Epoch 71/100\n",
            "240/240 [==============================] - 0s 1ms/step - loss: 27.0678\n",
            "Epoch 72/100\n",
            "240/240 [==============================] - 0s 1ms/step - loss: 27.4754\n",
            "Epoch 73/100\n",
            "240/240 [==============================] - 0s 1ms/step - loss: 27.1172\n",
            "Epoch 74/100\n",
            "240/240 [==============================] - 0s 1ms/step - loss: 27.7517\n",
            "Epoch 75/100\n",
            "240/240 [==============================] - 0s 1ms/step - loss: 27.3780\n",
            "Epoch 76/100\n",
            "240/240 [==============================] - 0s 1ms/step - loss: 27.0140\n",
            "Epoch 77/100\n",
            "240/240 [==============================] - 0s 1ms/step - loss: 27.3551\n",
            "Epoch 78/100\n",
            "240/240 [==============================] - 0s 1ms/step - loss: 27.4782\n",
            "Epoch 79/100\n",
            "240/240 [==============================] - 0s 1ms/step - loss: 27.3691\n",
            "Epoch 80/100\n",
            "240/240 [==============================] - 0s 1ms/step - loss: 27.0586\n",
            "Epoch 81/100\n",
            "240/240 [==============================] - 0s 1ms/step - loss: 26.8160\n",
            "Epoch 82/100\n",
            "240/240 [==============================] - 0s 1ms/step - loss: 27.4036\n",
            "Epoch 83/100\n",
            "240/240 [==============================] - 0s 1ms/step - loss: 26.4433\n",
            "Epoch 84/100\n",
            "240/240 [==============================] - 0s 1ms/step - loss: 27.4243\n",
            "Epoch 85/100\n",
            "240/240 [==============================] - 0s 1ms/step - loss: 27.4415\n",
            "Epoch 86/100\n",
            "240/240 [==============================] - 0s 1ms/step - loss: 26.9632\n",
            "Epoch 87/100\n",
            "240/240 [==============================] - 0s 1ms/step - loss: 26.9997\n",
            "Epoch 88/100\n",
            "240/240 [==============================] - 0s 1ms/step - loss: 26.7300\n",
            "Epoch 89/100\n",
            "240/240 [==============================] - 0s 1ms/step - loss: 26.9314\n",
            "Epoch 90/100\n",
            "240/240 [==============================] - 0s 1ms/step - loss: 26.6519\n",
            "Epoch 91/100\n",
            "240/240 [==============================] - 0s 1ms/step - loss: 26.8553\n",
            "Epoch 92/100\n",
            "240/240 [==============================] - 0s 1ms/step - loss: 26.7526\n",
            "Epoch 93/100\n",
            "240/240 [==============================] - 0s 1ms/step - loss: 27.2973\n",
            "Epoch 94/100\n",
            "240/240 [==============================] - 0s 1ms/step - loss: 26.9099\n",
            "Epoch 95/100\n",
            "240/240 [==============================] - 0s 1ms/step - loss: 28.0129\n",
            "Epoch 96/100\n",
            "240/240 [==============================] - 0s 1ms/step - loss: 27.3625\n",
            "Epoch 97/100\n",
            "240/240 [==============================] - 0s 1ms/step - loss: 26.4066\n",
            "Epoch 98/100\n",
            "240/240 [==============================] - 0s 1ms/step - loss: 27.3076\n",
            "Epoch 99/100\n",
            "240/240 [==============================] - 0s 1ms/step - loss: 27.1042\n",
            "Epoch 100/100\n",
            "240/240 [==============================] - 0s 1ms/step - loss: 27.1828\n"
          ]
        },
        {
          "output_type": "execute_result",
          "data": {
            "text/plain": [
              "<keras.callbacks.History at 0x7fd28087fed0>"
            ]
          },
          "metadata": {},
          "execution_count": 21
        }
      ]
    },
    {
      "cell_type": "markdown",
      "metadata": {
        "id": "0H0zKKNEBLD5"
      },
      "source": [
        "### Predicting the results of the Test set"
      ]
    },
    {
      "cell_type": "code",
      "metadata": {
        "id": "IA0yApEmBG1X",
        "colab": {
          "base_uri": "https://localhost:8080/"
        },
        "outputId": "9b3b3423-639b-4c3b-e095-bc3ddc283822"
      },
      "source": [
        "y_pred = ann.predict(X_test)\n",
        "np.set_printoptions(precision=2)\n",
        "print(np.concatenate((y_pred.reshape(len(y_pred),1), y_test.reshape(len(y_test),1)),1))"
      ],
      "execution_count": 22,
      "outputs": [
        {
          "output_type": "stream",
          "name": "stdout",
          "text": [
            "[[432.75 431.23]\n",
            " [463.79 460.01]\n",
            " [467.3  461.14]\n",
            " ...\n",
            " [474.51 473.26]\n",
            " [441.31 438.  ]\n",
            " [460.5  463.28]]\n"
          ]
        }
      ]
    }
  ]
}